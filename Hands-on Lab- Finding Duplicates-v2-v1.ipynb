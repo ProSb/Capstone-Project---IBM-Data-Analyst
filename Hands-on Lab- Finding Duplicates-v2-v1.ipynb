{
 "cells": [
  {
   "cell_type": "markdown",
   "id": "0d9b1ccb-1e17-4325-a1eb-bbf9d9b8879a",
   "metadata": {},
   "source": [
    "<p style=\"text-align:center\">\n",
    "    <a href=\"https://skills.network\" target=\"_blank\">\n",
    "    <img src=\"https://cf-courses-data.s3.us.cloud-object-storage.appdomain.cloud/assets/logos/SN_web_lightmode.png\" width=\"200\" alt=\"Skills Network Logo\"  />\n",
    "    </a>\n",
    "</p>\n"
   ]
  },
  {
   "cell_type": "markdown",
   "id": "3fd50f2e-3f4a-4f32-b732-a1961f756561",
   "metadata": {},
   "source": [
    "# **Finding Duplicates Lab**\n"
   ]
  },
  {
   "cell_type": "markdown",
   "id": "860df127-9e5f-4b29-846e-8ba12d536784",
   "metadata": {},
   "source": [
    "Estimated time needed: **30** minutes\n"
   ]
  },
  {
   "cell_type": "markdown",
   "id": "c1784873-6ea2-46de-aab6-34c3c6fee8d6",
   "metadata": {},
   "source": [
    "## Introduction\n"
   ]
  },
  {
   "cell_type": "markdown",
   "id": "1857c3f1-c604-4d6b-b551-19f4f356ee7e",
   "metadata": {},
   "source": [
    "Data wrangling is a critical step in preparing datasets for analysis, and handling duplicates plays a key role in ensuring data accuracy. In this lab, you will focus on identifying and removing duplicate entries from your dataset. \n"
   ]
  },
  {
   "cell_type": "markdown",
   "id": "442ed7e0-619e-4a5c-8fab-7b74be9dda81",
   "metadata": {},
   "source": [
    "## Objectives\n"
   ]
  },
  {
   "cell_type": "markdown",
   "id": "4d6fa756-8965-4cbf-a568-ad98362ae921",
   "metadata": {},
   "source": [
    "In this lab, you will perform the following:\n"
   ]
  },
  {
   "cell_type": "markdown",
   "id": "096b7a9a-5368-49f8-b2d2-8329f5e14fc0",
   "metadata": {},
   "source": [
    "1. Identify duplicate rows in the dataset and analyze their characteristics.\n",
    "2. Visualize the distribution of duplicates based on key attributes.\n",
    "3. Remove duplicate values strategically based on specific criteria.\n",
    "4. Outline the process of verifying and documenting duplicate removal.\n"
   ]
  },
  {
   "cell_type": "markdown",
   "id": "d8329849-34c2-4d9e-9567-15370e8fef6c",
   "metadata": {},
   "source": [
    "## Hands on Lab\n"
   ]
  },
  {
   "cell_type": "markdown",
   "id": "a8e7bdf8-2e11-44f5-b6e3-e9c2e7ad766c",
   "metadata": {},
   "source": [
    "Install the needed library\n"
   ]
  },
  {
   "cell_type": "code",
   "execution_count": 1,
   "id": "2e9dc645-7958-4d22-a004-b18d62a6efc9",
   "metadata": {},
   "outputs": [
    {
     "name": "stdout",
     "output_type": "stream",
     "text": [
      "Requirement already satisfied: pandas in c:\\users\\sebastian\\appdata\\local\\programs\\python\\python313\\lib\\site-packages (2.3.0)\n",
      "Requirement already satisfied: numpy>=1.26.0 in c:\\users\\sebastian\\appdata\\local\\programs\\python\\python313\\lib\\site-packages (from pandas) (2.2.6)\n",
      "Requirement already satisfied: python-dateutil>=2.8.2 in c:\\users\\sebastian\\appdata\\roaming\\python\\python313\\site-packages (from pandas) (2.9.0.post0)\n",
      "Requirement already satisfied: pytz>=2020.1 in c:\\users\\sebastian\\appdata\\local\\programs\\python\\python313\\lib\\site-packages (from pandas) (2025.2)\n",
      "Requirement already satisfied: tzdata>=2022.7 in c:\\users\\sebastian\\appdata\\local\\programs\\python\\python313\\lib\\site-packages (from pandas) (2025.2)\n",
      "Requirement already satisfied: six>=1.5 in c:\\users\\sebastian\\appdata\\roaming\\python\\python313\\site-packages (from python-dateutil>=2.8.2->pandas) (1.17.0)\n"
     ]
    },
    {
     "name": "stderr",
     "output_type": "stream",
     "text": [
      "\n",
      "[notice] A new release of pip is available: 25.1.1 -> 25.2\n",
      "[notice] To update, run: python.exe -m pip install --upgrade pip\n"
     ]
    },
    {
     "name": "stdout",
     "output_type": "stream",
     "text": [
      "Requirement already satisfied: matplotlib in c:\\users\\sebastian\\appdata\\local\\programs\\python\\python313\\lib\\site-packages (3.10.3)\n",
      "Requirement already satisfied: contourpy>=1.0.1 in c:\\users\\sebastian\\appdata\\local\\programs\\python\\python313\\lib\\site-packages (from matplotlib) (1.3.2)\n",
      "Requirement already satisfied: cycler>=0.10 in c:\\users\\sebastian\\appdata\\local\\programs\\python\\python313\\lib\\site-packages (from matplotlib) (0.12.1)\n",
      "Requirement already satisfied: fonttools>=4.22.0 in c:\\users\\sebastian\\appdata\\local\\programs\\python\\python313\\lib\\site-packages (from matplotlib) (4.58.1)\n",
      "Requirement already satisfied: kiwisolver>=1.3.1 in c:\\users\\sebastian\\appdata\\local\\programs\\python\\python313\\lib\\site-packages (from matplotlib) (1.4.8)\n",
      "Requirement already satisfied: numpy>=1.23 in c:\\users\\sebastian\\appdata\\local\\programs\\python\\python313\\lib\\site-packages (from matplotlib) (2.2.6)\n",
      "Requirement already satisfied: packaging>=20.0 in c:\\users\\sebastian\\appdata\\roaming\\python\\python313\\site-packages (from matplotlib) (25.0)\n",
      "Requirement already satisfied: pillow>=8 in c:\\users\\sebastian\\appdata\\local\\programs\\python\\python313\\lib\\site-packages (from matplotlib) (11.2.1)\n",
      "Requirement already satisfied: pyparsing>=2.3.1 in c:\\users\\sebastian\\appdata\\local\\programs\\python\\python313\\lib\\site-packages (from matplotlib) (3.2.3)\n",
      "Requirement already satisfied: python-dateutil>=2.7 in c:\\users\\sebastian\\appdata\\roaming\\python\\python313\\site-packages (from matplotlib) (2.9.0.post0)\n",
      "Requirement already satisfied: six>=1.5 in c:\\users\\sebastian\\appdata\\roaming\\python\\python313\\site-packages (from python-dateutil>=2.7->matplotlib) (1.17.0)\n"
     ]
    },
    {
     "name": "stderr",
     "output_type": "stream",
     "text": [
      "\n",
      "[notice] A new release of pip is available: 25.1.1 -> 25.2\n",
      "[notice] To update, run: python.exe -m pip install --upgrade pip\n"
     ]
    }
   ],
   "source": [
    "!pip install pandas\n",
    "!pip install matplotlib"
   ]
  },
  {
   "cell_type": "markdown",
   "id": "d850c702-b3c6-472e-97e6-784dfc4d7657",
   "metadata": {},
   "source": [
    "Import pandas module\n"
   ]
  },
  {
   "cell_type": "code",
   "execution_count": 2,
   "id": "9b01f14b-8e35-4d16-8ca5-78088b3dc7db",
   "metadata": {},
   "outputs": [],
   "source": [
    "import pandas as pd\n"
   ]
  },
  {
   "cell_type": "markdown",
   "id": "5e0b5037-750e-4f9c-a3c8-be19a0f0fb7f",
   "metadata": {},
   "source": [
    "Import matplotlib\n"
   ]
  },
  {
   "cell_type": "code",
   "execution_count": 3,
   "id": "b6be1eb5-be4d-4a83-a184-979457428725",
   "metadata": {},
   "outputs": [],
   "source": [
    "import matplotlib.pyplot as plt\n"
   ]
  },
  {
   "cell_type": "markdown",
   "id": "6a2e8452-3c54-43e4-a568-19916e762331",
   "metadata": {},
   "source": [
    "## **Load the dataset into a dataframe**\n"
   ]
  },
  {
   "cell_type": "markdown",
   "id": "ef0de7ff-2a28-43df-b9f0-a3329da2b27e",
   "metadata": {},
   "source": [
    "<h2>Read Data</h2>\n",
    "<p>\n",
    "We utilize the <code>pandas.read_csv()</code> function for reading CSV files. However, in this version of the lab, which operates on JupyterLite, the dataset needs to be downloaded to the interface using the provided code below.\n",
    "</p>\n"
   ]
  },
  {
   "cell_type": "code",
   "execution_count": 4,
   "id": "da2146c8-bbb3-4b87-ac0a-e15d099c688e",
   "metadata": {},
   "outputs": [
    {
     "name": "stdout",
     "output_type": "stream",
     "text": [
      "   ResponseId                      MainBranch                 Age  \\\n",
      "0           1  I am a developer by profession  Under 18 years old   \n",
      "1           2  I am a developer by profession     35-44 years old   \n",
      "2           3  I am a developer by profession     45-54 years old   \n",
      "3           4           I am learning to code     18-24 years old   \n",
      "4           5  I am a developer by profession     18-24 years old   \n",
      "\n",
      "            Employment RemoteWork   Check  \\\n",
      "0  Employed, full-time     Remote  Apples   \n",
      "1  Employed, full-time     Remote  Apples   \n",
      "2  Employed, full-time     Remote  Apples   \n",
      "3   Student, full-time        NaN  Apples   \n",
      "4   Student, full-time        NaN  Apples   \n",
      "\n",
      "                                    CodingActivities  \\\n",
      "0                                              Hobby   \n",
      "1  Hobby;Contribute to open-source projects;Other...   \n",
      "2  Hobby;Contribute to open-source projects;Other...   \n",
      "3                                                NaN   \n",
      "4                                                NaN   \n",
      "\n",
      "                                             EdLevel  \\\n",
      "0                          Primary/elementary school   \n",
      "1       Bachelor’s degree (B.A., B.S., B.Eng., etc.)   \n",
      "2    Master’s degree (M.A., M.S., M.Eng., MBA, etc.)   \n",
      "3  Some college/university study without earning ...   \n",
      "4  Secondary school (e.g. American high school, G...   \n",
      "\n",
      "                                           LearnCode  \\\n",
      "0                             Books / Physical media   \n",
      "1  Books / Physical media;Colleague;On the job tr...   \n",
      "2  Books / Physical media;Colleague;On the job tr...   \n",
      "3  Other online resources (e.g., videos, blogs, f...   \n",
      "4  Other online resources (e.g., videos, blogs, f...   \n",
      "\n",
      "                                     LearnCodeOnline  ... JobSatPoints_6  \\\n",
      "0                                                NaN  ...            NaN   \n",
      "1  Technical documentation;Blogs;Books;Written Tu...  ...            0.0   \n",
      "2  Technical documentation;Blogs;Books;Written Tu...  ...            NaN   \n",
      "3  Stack Overflow;How-to videos;Interactive tutorial  ...            NaN   \n",
      "4  Technical documentation;Blogs;Written Tutorial...  ...            NaN   \n",
      "\n",
      "  JobSatPoints_7 JobSatPoints_8 JobSatPoints_9 JobSatPoints_10  \\\n",
      "0            NaN            NaN            NaN             NaN   \n",
      "1            0.0            0.0            0.0             0.0   \n",
      "2            NaN            NaN            NaN             NaN   \n",
      "3            NaN            NaN            NaN             NaN   \n",
      "4            NaN            NaN            NaN             NaN   \n",
      "\n",
      "  JobSatPoints_11           SurveyLength SurveyEase ConvertedCompYearly JobSat  \n",
      "0             NaN                    NaN        NaN                 NaN    NaN  \n",
      "1             0.0                    NaN        NaN                 NaN    NaN  \n",
      "2             NaN  Appropriate in length       Easy                 NaN    NaN  \n",
      "3             NaN               Too long       Easy                 NaN    NaN  \n",
      "4             NaN              Too short       Easy                 NaN    NaN  \n",
      "\n",
      "[5 rows x 114 columns]\n"
     ]
    }
   ],
   "source": [
    "# Load the dataset directly from the URL\n",
    "file_path = \"https://cf-courses-data.s3.us.cloud-object-storage.appdomain.cloud/VYPrOu0Vs3I0hKLLjiPGrA/survey-data-with-duplicate.csv\"\n",
    "df = pd.read_csv(file_path)\n",
    "\n",
    "# Display the first few rows\n",
    "print(df.head())"
   ]
  },
  {
   "cell_type": "markdown",
   "id": "873cfff6-094b-4d40-9eae-99d13b91a16f",
   "metadata": {},
   "source": [
    "Load the data into a pandas dataframe:\n",
    "\n"
   ]
  },
  {
   "cell_type": "markdown",
   "id": "d8c5c700-c03b-4417-b075-c2b8e1f468ea",
   "metadata": {},
   "source": [
    "Note: If you are working on a local Jupyter environment, you can use the URL directly in the pandas.read_csv() function as shown below:\n",
    "\n"
   ]
  },
  {
   "cell_type": "code",
   "execution_count": null,
   "id": "e1f2347e-fa12-425b-a7c7-52462add160c",
   "metadata": {},
   "outputs": [],
   "source": [
    "# df = pd.read_csv(\"https://cf-courses-data.s3.us.cloud-object-storage.appdomain.cloud/n01PQ9pSmiRX6520flujwQ/survey-data.csv\")\n"
   ]
  },
  {
   "cell_type": "markdown",
   "id": "039095a6-af41-42a5-bc15-1f5715b30ad6",
   "metadata": {},
   "source": [
    "## Identify and Analyze Duplicates\n"
   ]
  },
  {
   "cell_type": "markdown",
   "id": "d09621e9-02ae-46b9-88dd-0b8a96b1336b",
   "metadata": {},
   "source": [
    "### Task 1: Identify Duplicate Rows\n",
    "1. Count the number of duplicate rows in the dataset.\n",
    "3. Display the first few duplicate rows to understand their structure.\n"
   ]
  },
  {
   "cell_type": "code",
   "execution_count": 5,
   "id": "4b0a5f12-97d0-4c18-a1a4-dce70f8418df",
   "metadata": {},
   "outputs": [
    {
     "name": "stdout",
     "output_type": "stream",
     "text": [
      "20\n",
      "       ResponseId                                         MainBranch  \\\n",
      "65437           1                     I am a developer by profession   \n",
      "65438           2                     I am a developer by profession   \n",
      "65439           3                     I am a developer by profession   \n",
      "65440           4                              I am learning to code   \n",
      "65441           5                     I am a developer by profession   \n",
      "65442           6                        I code primarily as a hobby   \n",
      "65443           7  I am not primarily a developer, but I write co...   \n",
      "65444           8                              I am learning to code   \n",
      "65445           9                        I code primarily as a hobby   \n",
      "65446          10                     I am a developer by profession   \n",
      "65447       18522                     I am a developer by profession   \n",
      "65448       49767                        I code primarily as a hobby   \n",
      "65449       51198                     I am a developer by profession   \n",
      "65450       44085                     I am a developer by profession   \n",
      "65451       22001  I am not primarily a developer, but I write co...   \n",
      "65452       35588  I am not primarily a developer, but I write co...   \n",
      "65453       50580                     I am a developer by profession   \n",
      "65454        9938                     I am a developer by profession   \n",
      "65455       40874                     I am a developer by profession   \n",
      "65456       36796                     I am a developer by profession   \n",
      "\n",
      "                      Age                                         Employment  \\\n",
      "65437  Under 18 years old                                Employed, full-time   \n",
      "65438     35-44 years old                                Employed, full-time   \n",
      "65439     45-54 years old                                Employed, full-time   \n",
      "65440     18-24 years old                                 Student, full-time   \n",
      "65441     18-24 years old                                 Student, full-time   \n",
      "65442  Under 18 years old                                 Student, full-time   \n",
      "65443     35-44 years old                                Employed, full-time   \n",
      "65444     18-24 years old  Student, full-time;Not employed, but looking f...   \n",
      "65445     45-54 years old                                Employed, full-time   \n",
      "65446     35-44 years old  Independent contractor, freelancer, or self-em...   \n",
      "65447     35-44 years old                                Employed, full-time   \n",
      "65448     18-24 years old                                 Student, full-time   \n",
      "65449     25-34 years old                                Employed, full-time   \n",
      "65450     35-44 years old                                Employed, full-time   \n",
      "65451     18-24 years old                                Employed, full-time   \n",
      "65452     18-24 years old             Student, full-time;Employed, part-time   \n",
      "65453     18-24 years old            Employed, full-time;Employed, part-time   \n",
      "65454     35-44 years old  Employed, full-time;Independent contractor, fr...   \n",
      "65455     25-34 years old                                Employed, full-time   \n",
      "65456   65 years or older                                            Retired   \n",
      "\n",
      "                                 RemoteWork   Check  \\\n",
      "65437                                Remote  Apples   \n",
      "65438                                Remote  Apples   \n",
      "65439                                Remote  Apples   \n",
      "65440                                   NaN  Apples   \n",
      "65441                                   NaN  Apples   \n",
      "65442                                   NaN  Apples   \n",
      "65443                                Remote  Apples   \n",
      "65444                                   NaN  Apples   \n",
      "65445                             In-person  Apples   \n",
      "65446                                Remote  Apples   \n",
      "65447                                Remote  Apples   \n",
      "65448                                   NaN  Apples   \n",
      "65449  Hybrid (some remote, some in-person)  Apples   \n",
      "65450  Hybrid (some remote, some in-person)  Apples   \n",
      "65451                                Remote  Apples   \n",
      "65452                             In-person  Apples   \n",
      "65453                                Remote  Apples   \n",
      "65454  Hybrid (some remote, some in-person)  Apples   \n",
      "65455                                Remote  Apples   \n",
      "65456                                   NaN  Apples   \n",
      "\n",
      "                                        CodingActivities  \\\n",
      "65437                                              Hobby   \n",
      "65438  Hobby;Contribute to open-source projects;Other...   \n",
      "65439  Hobby;Contribute to open-source projects;Other...   \n",
      "65440                                                NaN   \n",
      "65441                                                NaN   \n",
      "65442                                                NaN   \n",
      "65443                       I don’t code outside of work   \n",
      "65444                                                NaN   \n",
      "65445                                              Hobby   \n",
      "65446                           Bootstrapping a business   \n",
      "65447                      Hobby;Freelance/contract work   \n",
      "65448                                                NaN   \n",
      "65449           Hobby;Contribute to open-source projects   \n",
      "65450                       I don’t code outside of work   \n",
      "65451  Hobby;School or academic work;Professional dev...   \n",
      "65452  Hobby;Contribute to open-source projects;Schoo...   \n",
      "65453                      Hobby;Freelance/contract work   \n",
      "65454  Bootstrapping a business;School or academic wo...   \n",
      "65455                       I don’t code outside of work   \n",
      "65456                                                NaN   \n",
      "\n",
      "                                                 EdLevel  \\\n",
      "65437                          Primary/elementary school   \n",
      "65438       Bachelor’s degree (B.A., B.S., B.Eng., etc.)   \n",
      "65439    Master’s degree (M.A., M.S., M.Eng., MBA, etc.)   \n",
      "65440  Some college/university study without earning ...   \n",
      "65441  Secondary school (e.g. American high school, G...   \n",
      "65442                          Primary/elementary school   \n",
      "65443     Professional degree (JD, MD, Ph.D, Ed.D, etc.)   \n",
      "65444  Secondary school (e.g. American high school, G...   \n",
      "65445     Professional degree (JD, MD, Ph.D, Ed.D, etc.)   \n",
      "65446    Master’s degree (M.A., M.S., M.Eng., MBA, etc.)   \n",
      "65447       Bachelor’s degree (B.A., B.S., B.Eng., etc.)   \n",
      "65448                                                NaN   \n",
      "65449       Bachelor’s degree (B.A., B.S., B.Eng., etc.)   \n",
      "65450       Bachelor’s degree (B.A., B.S., B.Eng., etc.)   \n",
      "65451       Bachelor’s degree (B.A., B.S., B.Eng., etc.)   \n",
      "65452  Some college/university study without earning ...   \n",
      "65453  Some college/university study without earning ...   \n",
      "65454    Master’s degree (M.A., M.S., M.Eng., MBA, etc.)   \n",
      "65455  Some college/university study without earning ...   \n",
      "65456  Some college/university study without earning ...   \n",
      "\n",
      "                                               LearnCode  \\\n",
      "65437                             Books / Physical media   \n",
      "65438  Books / Physical media;Colleague;On the job tr...   \n",
      "65439  Books / Physical media;Colleague;On the job tr...   \n",
      "65440  Other online resources (e.g., videos, blogs, f...   \n",
      "65441  Other online resources (e.g., videos, blogs, f...   \n",
      "65442  School (i.e., University, College, etc);Online...   \n",
      "65443  Other online resources (e.g., videos, blogs, f...   \n",
      "65444  Other online resources (e.g., videos, blogs, f...   \n",
      "65445  Books / Physical media;Other online resources ...   \n",
      "65446  On the job training;Other online resources (e....   \n",
      "65447  Colleague;Other online resources (e.g., videos...   \n",
      "65448                                                NaN   \n",
      "65449  Books / Physical media;Online Courses or Certi...   \n",
      "65450  On the job training;Other online resources (e....   \n",
      "65451  On the job training;Other online resources (e....   \n",
      "65452  Other online resources (e.g., videos, blogs, f...   \n",
      "65453  Colleague;Other online resources (e.g., videos...   \n",
      "65454  Books / Physical media;On the job training;Oth...   \n",
      "65455  Books / Physical media;Other online resources ...   \n",
      "65456  Books / Physical media;School (i.e., Universit...   \n",
      "\n",
      "                                         LearnCodeOnline  ... JobSatPoints_6  \\\n",
      "65437                                                NaN  ...            NaN   \n",
      "65438  Technical documentation;Blogs;Books;Written Tu...  ...            0.0   \n",
      "65439  Technical documentation;Blogs;Books;Written Tu...  ...            NaN   \n",
      "65440  Stack Overflow;How-to videos;Interactive tutorial  ...            NaN   \n",
      "65441  Technical documentation;Blogs;Written Tutorial...  ...            NaN   \n",
      "65442                                                NaN  ...            NaN   \n",
      "65443  Technical documentation;Stack Overflow;Written...  ...            NaN   \n",
      "65444  Technical documentation;Video-based Online Cou...  ...            NaN   \n",
      "65445        Stack Overflow;Written-based Online Courses  ...            NaN   \n",
      "65446  Technical documentation;Blogs;Written Tutorial...  ...            NaN   \n",
      "65447  Technical documentation;Written Tutorials;Stac...  ...            0.0   \n",
      "65448                                                NaN  ...            NaN   \n",
      "65449                                                NaN  ...            0.0   \n",
      "65450  Coding sessions (live or recorded);Social Medi...  ...            NaN   \n",
      "65451  Technical documentation;Written Tutorials;Stac...  ...            NaN   \n",
      "65452                                                NaN  ...            NaN   \n",
      "65453  Technical documentation;Blogs;Written Tutorial...  ...           50.0   \n",
      "65454  Technical documentation;Blogs;Books;Stack Over...  ...            0.0   \n",
      "65455  Technical documentation;Blogs;Books;Stack Over...  ...            0.0   \n",
      "65456                                                NaN  ...            NaN   \n",
      "\n",
      "      JobSatPoints_7 JobSatPoints_8 JobSatPoints_9 JobSatPoints_10  \\\n",
      "65437            NaN            NaN            NaN             NaN   \n",
      "65438            0.0            0.0            0.0             0.0   \n",
      "65439            NaN            NaN            NaN             NaN   \n",
      "65440            NaN            NaN            NaN             NaN   \n",
      "65441            NaN            NaN            NaN             NaN   \n",
      "65442            NaN            NaN            NaN             NaN   \n",
      "65443            NaN            NaN            NaN             NaN   \n",
      "65444            NaN            NaN            NaN             NaN   \n",
      "65445            NaN            NaN            NaN             NaN   \n",
      "65446            NaN            NaN            NaN             NaN   \n",
      "65447            0.0            0.0            0.0             0.0   \n",
      "65448            NaN            NaN            NaN             NaN   \n",
      "65449            0.0            0.0            0.0             0.0   \n",
      "65450            NaN            NaN            NaN             NaN   \n",
      "65451            NaN            NaN            NaN             NaN   \n",
      "65452            NaN            NaN            NaN             NaN   \n",
      "65453           50.0           90.0            0.0             0.0   \n",
      "65454           60.0           60.0           50.0             0.0   \n",
      "65455            0.0            0.0            0.0             0.0   \n",
      "65456            NaN            NaN            NaN             NaN   \n",
      "\n",
      "      JobSatPoints_11           SurveyLength                  SurveyEase  \\\n",
      "65437             NaN                    NaN                         NaN   \n",
      "65438             0.0                    NaN                         NaN   \n",
      "65439             NaN  Appropriate in length                        Easy   \n",
      "65440             NaN               Too long                        Easy   \n",
      "65441             NaN              Too short                        Easy   \n",
      "65442             NaN  Appropriate in length                        Easy   \n",
      "65443             NaN               Too long  Neither easy nor difficult   \n",
      "65444             NaN  Appropriate in length                   Difficult   \n",
      "65445             NaN  Appropriate in length  Neither easy nor difficult   \n",
      "65446             NaN               Too long                        Easy   \n",
      "65447             0.0                    NaN  Neither easy nor difficult   \n",
      "65448             NaN                    NaN                         NaN   \n",
      "65449             0.0  Appropriate in length  Neither easy nor difficult   \n",
      "65450             NaN  Appropriate in length                        Easy   \n",
      "65451             NaN  Appropriate in length                        Easy   \n",
      "65452             NaN  Appropriate in length  Neither easy nor difficult   \n",
      "65453             0.0               Too long                        Easy   \n",
      "65454            50.0  Appropriate in length                        Easy   \n",
      "65455             0.0  Appropriate in length  Neither easy nor difficult   \n",
      "65456             NaN  Appropriate in length                        Easy   \n",
      "\n",
      "      ConvertedCompYearly JobSat  \n",
      "65437                 NaN    NaN  \n",
      "65438                 NaN    NaN  \n",
      "65439                 NaN    NaN  \n",
      "65440                 NaN    NaN  \n",
      "65441                 NaN    NaN  \n",
      "65442                 NaN    NaN  \n",
      "65443                 NaN    NaN  \n",
      "65444                 NaN    NaN  \n",
      "65445                 NaN    NaN  \n",
      "65446                 NaN    NaN  \n",
      "65447            256608.0    9.0  \n",
      "65448                 NaN    NaN  \n",
      "65449                 NaN    3.0  \n",
      "65450                 NaN    NaN  \n",
      "65451                 NaN    NaN  \n",
      "65452                 NaN    NaN  \n",
      "65453                 NaN    9.0  \n",
      "65454               997.0    4.0  \n",
      "65455                 NaN    6.0  \n",
      "65456                 NaN    NaN  \n",
      "\n",
      "[20 rows x 114 columns]\n"
     ]
    }
   ],
   "source": [
    "## Write your code here\n",
    "\n",
    "print(df.duplicated().sum())\n",
    "\n",
    "\n",
    "print(df[df.duplicated()])"
   ]
  },
  {
   "cell_type": "markdown",
   "id": "655d4b89-d51b-4889-bf2f-38fcb0a7b926",
   "metadata": {},
   "source": [
    "### Task 2: Analyze Characteristics of Duplicates\n",
    "1. Identify duplicate rows based on selected columns such as MainBranch, Employment, and RemoteWork. Analyse which columns frequently contain identical values within these duplicate rows.\n",
    "2. Analyse the characteristics of rows that are duplicates based on a subset of columns, such as MainBranch, Employment, and RemoteWork. Determine which columns frequently have identical values across these rows.\n",
    "   \n"
   ]
  },
  {
   "cell_type": "code",
   "execution_count": 6,
   "id": "8b9928b3-ee07-45a2-8f88-cf339457c7db",
   "metadata": {},
   "outputs": [
    {
     "name": "stdout",
     "output_type": "stream",
     "text": [
      "64896\n"
     ]
    }
   ],
   "source": [
    "## Write your code here\n",
    "\n",
    "subset_columns = ['MainBranch', 'Employment', 'RemoteWork']\n",
    "\n",
    "\n",
    "print(df.duplicated(subset=subset_columns).sum())"
   ]
  },
  {
   "cell_type": "markdown",
   "id": "b805a48c-e8b3-42e3-8e67-8de52afc3f09",
   "metadata": {},
   "source": [
    "### Task 3: Visualize Duplicates Distribution\n",
    "1. Create visualizations to show the distribution of duplicates across different categories.\n",
    "2. Use bar charts or pie charts to represent the distribution of duplicates by Country and Employment.\n"
   ]
  },
  {
   "cell_type": "code",
   "execution_count": 7,
   "id": "9d5016a8-583b-4db1-adb9-681b72aeba55",
   "metadata": {},
   "outputs": [
    {
     "data": {
      "image/png": "[encoded data removed]",
      "text/plain": [
       "<Figure size 640x480 with 1 Axes>"
      ]
     },
     "metadata": {},
     "output_type": "display_data"
    }
   ],
   "source": [
    "## Write your code here\n",
    "\n",
    "duplicates = df[df.duplicated()]\n",
    "\n",
    "\n",
    "duplicates['Country'].value_counts().plot(kind='pie', autopct='%1.1f%%')\n",
    "plt.title('Distribution of Duplicate Rows by Country')\n",
    "plt.ylabel('') # Hide the y-label for better aesthetics\n",
    "plt.show()"
   ]
  },
  {
   "cell_type": "markdown",
   "id": "87211b7d-14f3-41b8-a883-9f77d25f55c1",
   "metadata": {},
   "source": [
    "### Task 4: Strategic Removal of Duplicates\n",
    "1. Decide which columns are critical for defining uniqueness in the dataset.\n",
    "2. Remove duplicates based on a subset of columns if complete row duplication is not a good criterion.\n"
   ]
  },
  {
   "cell_type": "code",
   "execution_count": 8,
   "id": "7e1c64b7-5b48-4837-b139-1bc410faa0bc",
   "metadata": {},
   "outputs": [
    {
     "name": "stdout",
     "output_type": "stream",
     "text": [
      "Original number of rows: 65457\n",
      "Number of rows after removing duplicates: 65437\n"
     ]
    }
   ],
   "source": [
    "## Write your code here\n",
    "\n",
    "df_no_duplicates = df.drop_duplicates()\n",
    "\n",
    "\n",
    "print(\"Original number of rows:\", len(df))\n",
    "print(\"Number of rows after removing duplicates:\", len(df_no_duplicates))"
   ]
  },
  {
   "cell_type": "markdown",
   "id": "b1e36e50-897e-49ad-bbce-c788043a4424",
   "metadata": {},
   "source": [
    "## Verify and Document Duplicate Removal Process\n"
   ]
  },
  {
   "cell_type": "markdown",
   "id": "64e47f9d-977b-420c-8c13-c050ea305392",
   "metadata": {},
   "source": [
    "### Task 5: Documentation\n",
    "1. Document the process of identifying and removing duplicates.\n"
   ]
  },
  {
   "cell_type": "raw",
   "id": "96ac861d-f2ff-41bc-83ee-441a92281ba6",
   "metadata": {
    "vscode": {
     "languageId": "raw"
    }
   },
   "source": [
    "# Write your explanation here\n",
    "### ## Process for Identifying and Removing Duplicates\n",
    "\n",
    "1.  **Load Data**: The first step was to load the dataset from the provided CSV file into a pandas DataFrame.\n",
    "2.  **Initial Assessment**: We determined the total number of rows in the DataFrame to establish a baseline.\n",
    "3.  **Identify Full Duplicates**: We used the `df.duplicated().sum()` method to count the number of rows that were identical across all columns.\n",
    "4.  **Remove Duplicates**: The `df.drop_duplicates()` method was used to create a new DataFrame with all complete duplicate rows removed.\n",
    "5.  **Verification**: Finally, we checked the number of rows in the new DataFrame to confirm that the duplicates had been successfully removed."
   ]
  },
  {
   "cell_type": "markdown",
   "id": "0e1fbbaa-0de2-492a-91d8-85111ef48c8b",
   "metadata": {},
   "source": [
    "2. Explain the reasoning behind selecting specific columns for identifying and removing duplicates.\n"
   ]
  },
  {
   "cell_type": "raw",
   "id": "5892c110-4910-4875-93dc-4463d69692ca",
   "metadata": {
    "vscode": {
     "languageId": "raw"
    }
   },
   "source": [
    "# Write your explanation here\n",
    "### ## Rationale for Column-Specific Duplicate Removal\n",
    "\n",
    "Sometimes, a row might not be a complete duplicate, but it's still considered a duplicate based on a few key columns. For example, in a survey, we might not want the same person to have submitted the form twice, even if they changed a minor detail on their second submission.\n",
    "\n",
    "In this lab, we considered a subset of columns like **'MainBranch', 'Employment', and 'RemoteWork'**. The reasoning is that a combination of these core attributes is highly unlikely to be identical for two different survey respondents. If two rows share the same values for all of these key columns, it's a strong indicator that they represent a duplicate entry from the same individual, even if other columns (like free-form text answers) have minor differences. This targeted approach helps ensure data integrity by removing redundant entries without accidentally deleting unique records."
   ]
  },
  {
   "cell_type": "markdown",
   "id": "a1c7e20a-1bf6-4527-8e96-72327c45cd80",
   "metadata": {},
   "source": [
    "### Summary and Next Steps\n",
    "**In this lab, you focused on identifying and analyzing duplicate rows within the dataset.**\n",
    "\n",
    "- You employed various techniques to explore the nature of duplicates and applied strategic methods for their removal.\n",
    "- For additional analysis, consider investigating the impact of duplicates on specific analyses and how their removal affects the results.\n",
    "- This version of the lab is more focused on duplicate analysis and handling, providing a structured approach to deal with duplicates in a dataset effectively.\n"
   ]
  },
  {
   "cell_type": "markdown",
   "id": "a5cf91f9-2dda-45b4-9fdd-0bc91a1484d3",
   "metadata": {},
   "source": [
    "<!--\n",
    "## Change Log\n",
    "|Date (YYYY-MM-DD)|Version|Changed By|Change Description|\n",
    "|-|-|-|-|\n",
    "|2024-11- 05|1.3|Madhusudhan Moole|Updated lab|\n",
    "|2024-10-28|1.2|Madhusudhan Moole|Updated lab|\n",
    "|2024-09-24|1.1|Madhusudhan Moole|Updated lab|\n",
    "|2024-09-23|1.0|Raghul Ramesh|Created lab|\n",
    "--!>\n"
   ]
  },
  {
   "cell_type": "markdown",
   "id": "066efe23-175b-4c0f-8abc-379169aec311",
   "metadata": {},
   "source": [
    "Copyright © IBM Corporation. All rights reserved.\n"
   ]
  }
 ],
 "metadata": {
  "kernelspec": {
   "display_name": "Python 3",
   "language": "python",
   "name": "python3"
  },
  "language_info": {
   "codemirror_mode": {
    "name": "ipython",
    "version": 3
   },
   "file_extension": ".py",
   "mimetype": "text/x-python",
   "name": "python",
   "nbconvert_exporter": "python",
   "pygments_lexer": "ipython3",
   "version": "3.13.3"
  },
  "prev_pub_hash": "fa3493caccf457f2b33a3a72ca6bf5789c2ce4157ea6e40534b09cc8380e8ae5"
 },
 "nbformat": 4,
 "nbformat_minor": 4
}
